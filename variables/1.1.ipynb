{
 "cells": [
  {
   "cell_type": "code",
   "execution_count": 1,
   "id": "7d3d3100",
   "metadata": {},
   "outputs": [
    {
     "name": "stdout",
     "output_type": "stream",
     "text": [
      "a = 1, and b = 1\n",
      "a = 1, and b = 9\n"
     ]
    }
   ],
   "source": [
    "a = 1\n",
    "b = a\n",
    "print(f\"a = {a}, and b = {b}\")\n",
    "b = 9\n",
    "print(f\"a = {a}, and b = {b}\")\n",
    "# In this case, if you reassign one of the variables,\n",
    "# the other is not affected."
   ]
  },
  {
   "cell_type": "code",
   "execution_count": 2,
   "id": "d08a488f",
   "metadata": {},
   "outputs": [
    {
     "name": "stdout",
     "output_type": "stream",
     "text": [
      "a = 1.9, and b = 1.9\n",
      "a = 1.9, and b = 2.1\n"
     ]
    }
   ],
   "source": [
    "a = 1.9\n",
    "b = a\n",
    "print(f\"a = {a}, and b = {b}\")\n",
    "b = 2.1\n",
    "print(f\"a = {a}, and b = {b}\")\n",
    "# Again, if you reassign a variable, the other\n",
    "# is not affected."
   ]
  },
  {
   "cell_type": "code",
   "execution_count": 3,
   "id": "f17957cc",
   "metadata": {},
   "outputs": [
    {
     "name": "stdout",
     "output_type": "stream",
     "text": [
      "a = Hello, world!, and b = Hello, world!\n",
      "a = Hello, world!, and b = Goodbye, Python!\n"
     ]
    }
   ],
   "source": [
    "a = \"Hello, world!\"\n",
    "b = a\n",
    "print(f\"a = {a}, and b = {b}\")\n",
    "b = \"Goodbye, Python!\"\n",
    "print(f\"a = {a}, and b = {b}\")\n",
    "# If you reassign a string variable,\n",
    "# the other is not affected."
   ]
  },
  {
   "cell_type": "code",
   "execution_count": 4,
   "id": "69da0304",
   "metadata": {},
   "outputs": [
    {
     "name": "stdout",
     "output_type": "stream",
     "text": [
      "a = [1, 2, 3], and b = [1, 2, 3]\n",
      "a = [1, 9, 3], and b = [1, 9, 3]\n",
      "a = [3, 4, 5], and b = [1, 9, 3]\n"
     ]
    }
   ],
   "source": [
    "a = [1,2,3]\n",
    "b = a\n",
    "print(f\"a = {a}, and b = {b}\")\n",
    "b[1] = 9\n",
    "print(f\"a = {a}, and b = {b}\")\n",
    "\n",
    "a = [3,4,5]\n",
    "print(f\"a = {a}, and b = {b}\")\n",
    "\n",
    "# Lists are different. If you reassign\n",
    "# an index within one of the two, the\n",
    "# other is affected. But if you assign\n",
    "# an entirely new list to one of the\n",
    "# two, the other is not affected. In\n",
    "# that case, the link between the two\n",
    "# is lost."
   ]
  },
  {
   "cell_type": "code",
   "execution_count": 5,
   "id": "3ace1ca2",
   "metadata": {},
   "outputs": [
    {
     "name": "stdout",
     "output_type": "stream",
     "text": [
      "a = (1, 2), and b = (1, 2)\n",
      "a = (2, 3), and b = (1, 2)\n"
     ]
    }
   ],
   "source": [
    "a = (1,2)\n",
    "b = a\n",
    "print(f\"a = {a}, and b = {b}\")\n",
    "\n",
    "a = (2,3)\n",
    "print(f\"a = {a}, and b = {b}\")\n",
    "# Tuples are like strings, ints,\n",
    "# or floats. When you reassign\n",
    "# one, the other is not affected."
   ]
  },
  {
   "cell_type": "code",
   "execution_count": 6,
   "id": "d5ee4a8d",
   "metadata": {},
   "outputs": [
    {
     "name": "stdout",
     "output_type": "stream",
     "text": [
      "a = {'foo': 'bar', 'bizz': 'buzz'}, and b = {'foo': 'bar', 'bizz': 'buzz'}\n",
      "a = {'foo': 'Is this thing on?', 'bizz': 'buzz'}, and b = {'foo': 'Is this thing on?', 'bizz': 'buzz'}\n",
      "a = {'foo': 'Is this thing on?', 'bizz': 'buzz'}, and b = {}\n"
     ]
    }
   ],
   "source": [
    "a = {\"foo\": \"bar\", \"bizz\": \"buzz\"}\n",
    "b = a\n",
    "print(f\"a = {a}, and b = {b}\")\n",
    "\n",
    "b[\"foo\"] = \"Is this thing on?\"\n",
    "print(f\"a = {a}, and b = {b}\")\n",
    "\n",
    "b = {}\n",
    "print(f\"a = {a}, and b = {b}\")\n",
    "\n",
    "# Dicts are like lists. If you make\n",
    "# an internal change, both variables\n",
    "# reflect the change. If you reassign\n",
    "# a new dict, the link between the two\n",
    "# is lost."
   ]
  }
 ],
 "metadata": {
  "kernelspec": {
   "display_name": "Python 3 (ipykernel)",
   "language": "python",
   "name": "python3"
  },
  "language_info": {
   "codemirror_mode": {
    "name": "ipython",
    "version": 3
   },
   "file_extension": ".py",
   "mimetype": "text/x-python",
   "name": "python",
   "nbconvert_exporter": "python",
   "pygments_lexer": "ipython3",
   "version": "3.10.5"
  }
 },
 "nbformat": 4,
 "nbformat_minor": 5
}
