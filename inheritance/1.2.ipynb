{
 "cells": [
  {
   "cell_type": "code",
   "execution_count": 1,
   "id": "55627144-a4f7-49df-b888-913eb4aca80b",
   "metadata": {},
   "outputs": [],
   "source": [
    "class Animal:\n",
    "    def __init__(self, name):\n",
    "        self.name = name\n",
    "        \n",
    "    def __repr__(self):\n",
    "        return f\"Animal({self.name})\"\n",
    "\n",
    "# Mixin classes for movement\n",
    "class Walker():\n",
    "    def walk(self, speed):\n",
    "        print(f\"{self.name} is walking {speed} feet per hour.\")\n",
    "        \n",
    "class Hopper():\n",
    "    def hop(self, speed):\n",
    "        print(f\"{self.name} is hopping {speed} feet per hour.\")\n",
    "        \n",
    "class Runner():\n",
    "    def run(self, speed):\n",
    "        print(f\"{self.name} is running at {speed} miles per hour.\")\n",
    "\n",
    "class Flyer():\n",
    "    def fly(self, speed):\n",
    "        print(f\"{self.name} is flying {speed} miles per hour.\")\n",
    "\n",
    "class Swimmer():\n",
    "    def swim(self, speed, depth):\n",
    "        print(f\"{self.name} is swimming {speed} miles per hour at a depth of {depth} feet.\")\n",
    "\n",
    "class Climber():\n",
    "    def climb(self, height):\n",
    "        print(f\"{self.name} is climbing {height} feet up.\")\n",
    "\n",
    "# I'm not a biologist, so here's my silly division of animals\n",
    "# based on where they live!\n",
    "class LandAnimal(Animal, Walker, Runner):\n",
    "    pass\n",
    "\n",
    "class WaterAnimal(Animal, Swimmer):\n",
    "    pass\n",
    "\n",
    "class SkyAnimal(Animal, Flyer):\n",
    "    pass\n",
    "\n",
    "class Wolf(LandAnimal):\n",
    "    pass\n",
    "\n",
    "class Bear(LandAnimal, Climber):\n",
    "    pass\n",
    "\n",
    "class Duck(SkyAnimal, Swimmer, Walker):\n",
    "    pass\n",
    "\n",
    "class Frog(WaterAnimal, Hopper):\n",
    "    pass\n",
    "\n",
    "class Trout(WaterAnimal):\n",
    "    pass"
   ]
  },
  {
   "cell_type": "code",
   "execution_count": 2,
   "id": "6099cee3-8add-47eb-a6db-63618769bcc9",
   "metadata": {},
   "outputs": [
    {
     "name": "stdout",
     "output_type": "stream",
     "text": [
      "Jimmy is swimming 6 miles per hour at a depth of 12 feet.\n",
      "Big Bad Wolf is walking 3 feet per hour.\n",
      "Big Bad Wolf is running at 15 miles per hour.\n",
      "Donald is flying 4 miles per hour.\n",
      "Donald is swimming 6 miles per hour at a depth of 0 feet.\n",
      "Donald is walking 2 feet per hour.\n",
      "Winnie the Pooh is climbing 7 feet up.\n",
      "Winnie the Pooh is walking 1 feet per hour.\n",
      "Winnie the Pooh is running at 3 miles per hour.\n",
      "Kermit is hopping 4 feet per hour.\n",
      "Kermit is swimming 2 miles per hour at a depth of 3 feet.\n"
     ]
    }
   ],
   "source": [
    "kermit = Frog(\"Kermit\")\n",
    "donald = Duck(\"Donald\")\n",
    "winnie = Bear(\"Winnie the Pooh\")\n",
    "big_bad = Wolf(\"Big Bad Wolf\")\n",
    "jimmy = Trout(\"Jimmy\")\n",
    "jimmy.swim(6, 12)\n",
    "big_bad.walk(3)\n",
    "big_bad.run(15)\n",
    "donald.fly(4)\n",
    "donald.swim(6, 0)\n",
    "donald.walk(2)\n",
    "winnie.climb(7)\n",
    "winnie.walk(1)\n",
    "winnie.run(3)\n",
    "kermit.hop(4)\n",
    "kermit.swim(2, 3)"
   ]
  },
  {
   "cell_type": "code",
   "execution_count": null,
   "id": "db34d7f2-d00e-4714-9640-7f133fc06036",
   "metadata": {},
   "outputs": [],
   "source": []
  }
 ],
 "metadata": {
  "kernelspec": {
   "display_name": "Python 3 (ipykernel)",
   "language": "python",
   "name": "python3"
  },
  "language_info": {
   "codemirror_mode": {
    "name": "ipython",
    "version": 3
   },
   "file_extension": ".py",
   "mimetype": "text/x-python",
   "name": "python",
   "nbconvert_exporter": "python",
   "pygments_lexer": "ipython3",
   "version": "3.10.5"
  }
 },
 "nbformat": 4,
 "nbformat_minor": 5
}
