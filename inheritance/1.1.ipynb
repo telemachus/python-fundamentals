{
 "cells": [
  {
   "cell_type": "code",
   "execution_count": 1,
   "id": "55627144-a4f7-49df-b888-913eb4aca80b",
   "metadata": {},
   "outputs": [],
   "source": [
    "class Animal:\n",
    "    def __init__(self, name):\n",
    "        self.name = name\n",
    "        \n",
    "    def __repr__(self):\n",
    "        return f\"Animal({self.name})\"\n",
    "\n",
    "# I'm not a biologist, so here's my silly division of animals\n",
    "# based on where they live!\n",
    "class LandAnimal(Animal):\n",
    "    def __init__(self, name):\n",
    "        super().__init__(name)\n",
    "        \n",
    "    def __repr__(self):\n",
    "        return f\"LandAnimal({self.name})\"\n",
    "\n",
    "class WaterAnimal(Animal):\n",
    "    def __init__(self, name, depth):\n",
    "        super().__init__(name)\n",
    "        self.depth = depth\n",
    "    \n",
    "    def __repr__(self):\n",
    "        return f\"WaterAnimal({self.name} swimming at a depth of {self.depth}…)\"\n",
    "\n",
    "class SkyAnimal(Animal):\n",
    "    def __init__(self, name):\n",
    "        super().__init__(name)\n",
    "        \n",
    "    def __repr__(self):\n",
    "        return f\"SkyAnimal({self.name})\"\n",
    "\n",
    "class Wolf(LandAnimal):\n",
    "    def __repr__(self):\n",
    "        return f\"Wolf({self.name})\"\n",
    "\n",
    "class Bear(LandAnimal):\n",
    "    def __repr__(self):\n",
    "        return f\"Bear({self.name})\"\n",
    "\n",
    "class Duck(SkyAnimal):\n",
    "    # Yes, this choice is tricky. Duck could have been a\n",
    "    # water animal.\n",
    "    def __repr__(self):\n",
    "        return f\"Duck({self.name})\"\n",
    "\n",
    "class Frog(WaterAnimal):\n",
    "    def __repr__(self):\n",
    "        return f\"Frog({self.name} swimming at a depth of {self.depth}…)\"\n",
    "\n",
    "class Trout(WaterAnimal):\n",
    "    def __repr__(self):\n",
    "        return f\"Trout({self.name} swimming at a depth of {self.depth}…)\""
   ]
  },
  {
   "cell_type": "code",
   "execution_count": 2,
   "id": "0fbdcaaf-546b-4c1d-9edb-5013f9ed77f3",
   "metadata": {},
   "outputs": [],
   "source": [
    "w = Wolf('Big Bad')\n",
    "b = Bear('Winnie the Pooh')\n",
    "d = Duck('Donald')\n",
    "f = Frog('Coqui', 9)\n",
    "t = Trout('George', 24)\n",
    "\n",
    "zoo = [w, b, d, f, t]"
   ]
  },
  {
   "cell_type": "code",
   "execution_count": 3,
   "id": "60951294-7eba-44f0-9d2d-428831d7860f",
   "metadata": {},
   "outputs": [
    {
     "name": "stdout",
     "output_type": "stream",
     "text": [
      "Our zoo: [Wolf(Big Bad), Bear(Winnie the Pooh), Duck(Donald), Frog(Coqui swimming at a depth of 9…), Trout(George swimming at a depth of 24…)]!\n"
     ]
    }
   ],
   "source": [
    "print(f\"Our zoo: {zoo}!\")"
   ]
  }
 ],
 "metadata": {
  "kernelspec": {
   "display_name": "Python 3 (ipykernel)",
   "language": "python",
   "name": "python3"
  },
  "language_info": {
   "codemirror_mode": {
    "name": "ipython",
    "version": 3
   },
   "file_extension": ".py",
   "mimetype": "text/x-python",
   "name": "python",
   "nbconvert_exporter": "python",
   "pygments_lexer": "ipython3",
   "version": "3.10.5"
  }
 },
 "nbformat": 4,
 "nbformat_minor": 5
}
