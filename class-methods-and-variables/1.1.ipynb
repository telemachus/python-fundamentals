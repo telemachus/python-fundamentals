{
 "cells": [
  {
   "cell_type": "code",
   "execution_count": 1,
   "id": "26244066",
   "metadata": {},
   "outputs": [
    {
     "name": "stdout",
     "output_type": "stream",
     "text": [
      "{'__module__': '__main__', 'port': 55001, 'conn_limit': 10, 'conn_count': 1, '__init__': <function Connection.__init__ at 0x103a38790>, 'close': <function Connection.close at 0x103a38a60>, '__repr__': <function Connection.__repr__ at 0x103a38af0>, '__dict__': <attribute '__dict__' of 'Connection' objects>, '__weakref__': <attribute '__weakref__' of 'Connection' objects>, '__doc__': None}\n",
      "{'__module__': '__main__', 'port': 55002, 'conn_limit': 10, 'conn_count': 2, '__init__': <function Connection.__init__ at 0x103a38790>, 'close': <function Connection.close at 0x103a38a60>, '__repr__': <function Connection.__repr__ at 0x103a38af0>, '__dict__': <attribute '__dict__' of 'Connection' objects>, '__weakref__': <attribute '__weakref__' of 'Connection' objects>, '__doc__': None}\n",
      "127.0.0.1, 55000 192.168.0.1, 55001\n",
      "{'__module__': '__main__', 'port': 55002, 'conn_limit': 10, 'conn_count': 1, '__init__': <function Connection.__init__ at 0x103a38790>, 'close': <function Connection.close at 0x103a38a60>, '__repr__': <function Connection.__repr__ at 0x103a38af0>, '__dict__': <attribute '__dict__' of 'Connection' objects>, '__weakref__': <attribute '__weakref__' of 'Connection' objects>, '__doc__': None}\n"
     ]
    }
   ],
   "source": [
    "class Connection:\n",
    "    port = 55000\n",
    "    conn_limit = 10\n",
    "    conn_count = 0\n",
    "\n",
    "    \n",
    "    \n",
    "    def __init__(self, host=\"127.0.0.1\"):\n",
    "        if __class__.conn_count < __class__.conn_limit:\n",
    "            self.host = host\n",
    "            self.port = __class__.port\n",
    "            __class__.port += 1\n",
    "            self.__class__.conn_count += 1\n",
    "        # Should I raise an exception if the connection count\n",
    "        # is too high? For now, I'll simply do nothing.\n",
    "    \n",
    "    \n",
    "    def close(self):\n",
    "        # reduce the class's connection_count by 1\n",
    "        if self.__class__.conn_count > 0:\n",
    "            self.__class__.conn_count -= 1\n",
    "    \n",
    "    \n",
    "    def __repr__(self):\n",
    "        return f\"{self.host}, {self.port}\"\n",
    "    \n",
    "c01 = Connection()\n",
    "print(Connection.__dict__)\n",
    "# __dict__ shows that conn_count is 1 here.\n",
    "c02 = Connection(\"192.168.0.1\")\n",
    "print(Connection.__dict__)\n",
    "# __dict__ shows that conn_count is 2 here.\n",
    "print(c01, c02)\n",
    "\n",
    "c01.close()\n",
    "print(Connection.__dict__)\n",
    "# __dict__ shows that conn_count is 1 here."
   ]
  },
  {
   "cell_type": "code",
   "execution_count": 4,
   "id": "ca19a918",
   "metadata": {},
   "outputs": [
    {
     "name": "stdout",
     "output_type": "stream",
     "text": [
      "{'__module__': '__main__', 'port': 55001, 'conn_limit': 10, 'connections': [127.0.0.1, 55000], '__init__': <function Connection.__init__ at 0x10471d2d0>, 'close': <function Connection.close at 0x10471d5a0>, '__repr__': <function Connection.__repr__ at 0x10471d240>, '__dict__': <attribute '__dict__' of 'Connection' objects>, '__weakref__': <attribute '__weakref__' of 'Connection' objects>, '__doc__': None}\n",
      "{'__module__': '__main__', 'port': 55002, 'conn_limit': 10, 'connections': [127.0.0.1, 55000, 192.168.0.1, 55001], '__init__': <function Connection.__init__ at 0x10471d2d0>, 'close': <function Connection.close at 0x10471d5a0>, '__repr__': <function Connection.__repr__ at 0x10471d240>, '__dict__': <attribute '__dict__' of 'Connection' objects>, '__weakref__': <attribute '__weakref__' of 'Connection' objects>, '__doc__': None}\n",
      "127.0.0.1, 55000 192.168.0.1, 55001\n",
      "{'__module__': '__main__', 'port': 55002, 'conn_limit': 10, 'connections': [192.168.0.1, 55001], '__init__': <function Connection.__init__ at 0x10471d2d0>, 'close': <function Connection.close at 0x10471d5a0>, '__repr__': <function Connection.__repr__ at 0x10471d240>, '__dict__': <attribute '__dict__' of 'Connection' objects>, '__weakref__': <attribute '__weakref__' of 'Connection' objects>, '__doc__': None}\n",
      "Caught ValueError while trying to reclose 127.0.0.1, 55000\n"
     ]
    }
   ],
   "source": [
    "class Connection:\n",
    "    port = 55000\n",
    "    conn_limit = 10\n",
    "    connections = []\n",
    "    \n",
    "    def __init__(self, host=\"127.0.0.1\"):\n",
    "        if len(__class__.connections) < __class__.conn_limit:\n",
    "            self.host = host\n",
    "            self.port = __class__.port\n",
    "            __class__.port += 1\n",
    "            self.__class__.connections.append(self)\n",
    "        # Should I raise an exception if there are too many\n",
    "        # connections? For now, I'll simply do nothing.\n",
    "    \n",
    "    \n",
    "    def close(self):\n",
    "        self.__class__.connections.remove(self)\n",
    "        \n",
    "    def __repr__(self):\n",
    "        return f\"{self.host}, {self.port}\"\n",
    "\n",
    "    \n",
    "c01 = Connection()\n",
    "print(Connection.__dict__)\n",
    "# __dict__ shows that connections has only c01 in it here.\n",
    "c02 = Connection(\"192.168.0.1\")\n",
    "print(Connection.__dict__)\n",
    "# __dict__ shows that connections has c01 and c02 in it here.\n",
    "print(c01, c02)\n",
    "\n",
    "c01.close()\n",
    "print(Connection.__dict__)\n",
    "# __dict__ shows that connections has only c02 in it here.\n",
    "\n",
    "try:\n",
    "    c01.close()\n",
    "except ValueError:\n",
    "    print(f\"Caught ValueError while trying to reclose {c01}\")"
   ]
  },
  {
   "cell_type": "code",
   "execution_count": null,
   "id": "25a06e9a",
   "metadata": {},
   "outputs": [],
   "source": []
  }
 ],
 "metadata": {
  "kernelspec": {
   "display_name": "Python 3 (ipykernel)",
   "language": "python",
   "name": "python3"
  },
  "language_info": {
   "codemirror_mode": {
    "name": "ipython",
    "version": 3
   },
   "file_extension": ".py",
   "mimetype": "text/x-python",
   "name": "python",
   "nbconvert_exporter": "python",
   "pygments_lexer": "ipython3",
   "version": "3.10.5"
  }
 },
 "nbformat": 4,
 "nbformat_minor": 5
}
