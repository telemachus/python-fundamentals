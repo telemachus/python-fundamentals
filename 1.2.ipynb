{
 "cells": [
  {
   "cell_type": "code",
   "execution_count": 1,
   "id": "7d3d3100",
   "metadata": {},
   "outputs": [
    {
     "name": "stdout",
     "output_type": "stream",
     "text": [
      "a = 4341776624, and b = 4341776624\n",
      "a = 4341776624, and b = 4341776880\n"
     ]
    }
   ],
   "source": [
    "a = 1\n",
    "b = a\n",
    "print(f\"a = {id(a)}, and b = {id(b)}\")\n",
    "b = 9\n",
    "print(f\"a = {id(a)}, and b = {id(b)}\")"
   ]
  },
  {
   "cell_type": "code",
   "execution_count": 2,
   "id": "d08a488f",
   "metadata": {},
   "outputs": [
    {
     "name": "stdout",
     "output_type": "stream",
     "text": [
      "a = 4390600400, and b = 4390600400\n",
      "a = 4390600400, and b = 4390600048\n"
     ]
    }
   ],
   "source": [
    "a = 1.9\n",
    "b = a\n",
    "print(f\"a = {id(a)}, and b = {id(b)}\")\n",
    "b = 2.1\n",
    "print(f\"a = {id(a)}, and b = {id(b)}\")"
   ]
  },
  {
   "cell_type": "code",
   "execution_count": 3,
   "id": "f17957cc",
   "metadata": {},
   "outputs": [
    {
     "name": "stdout",
     "output_type": "stream",
     "text": [
      "a = 4392716464, and b = 4392716464\n",
      "a = 4392716464, and b = 4392401968\n"
     ]
    }
   ],
   "source": [
    "a = \"Hello, world!\"\n",
    "b = a\n",
    "print(f\"a = {id(a)}, and b = {id(b)}\")\n",
    "b = \"Goodbye, Python!\"\n",
    "print(f\"a = {id(a)}, and b = {id(b)}\")"
   ]
  },
  {
   "cell_type": "code",
   "execution_count": 4,
   "id": "69da0304",
   "metadata": {},
   "outputs": [
    {
     "name": "stdout",
     "output_type": "stream",
     "text": [
      "a = 4392262848, and b = 4392262848\n",
      "a = 4392262848, and b = 4392262848\n",
      "a = 4387026496, and b = 4392262848\n"
     ]
    }
   ],
   "source": [
    "a = [1,2,3]\n",
    "b = a\n",
    "print(f\"a = {id(a)}, and b = {id(b)}\")\n",
    "b[1] = 9\n",
    "print(f\"a = {id(a)}, and b = {id(b)}\")\n",
    "\n",
    "a = [3,4,5]\n",
    "print(f\"a = {id(a)}, and b = {id(b)}\")"
   ]
  },
  {
   "cell_type": "code",
   "execution_count": 5,
   "id": "3ace1ca2",
   "metadata": {},
   "outputs": [
    {
     "name": "stdout",
     "output_type": "stream",
     "text": [
      "a = 4392925120, and b = 4392925120\n",
      "a = 4392041600, and b = 4392925120\n"
     ]
    }
   ],
   "source": [
    "a = (1,2)\n",
    "b = a\n",
    "print(f\"a = {id(a)}, and b = {id(b)}\")\n",
    "\n",
    "a = (2,3)\n",
    "print(f\"a = {id(a)}, and b = {id(b)}\")"
   ]
  },
  {
   "cell_type": "code",
   "execution_count": 7,
   "id": "d5ee4a8d",
   "metadata": {},
   "outputs": [
    {
     "name": "stdout",
     "output_type": "stream",
     "text": [
      "a = 4392726848, and b = 4392726848\n",
      "a = 4392726848, and b = 4392726848\n",
      "a = 4392726848, and b = 4392726272\n"
     ]
    }
   ],
   "source": [
    "a = {\"foo\": \"bar\", \"bizz\": \"buzz\"}\n",
    "b = a\n",
    "print(f\"a = {id(a)}, and b = {id(b)}\")\n",
    "\n",
    "b[\"foo\"] = \"Is this thing on?\"\n",
    "print(f\"a = {id(a)}, and b = {id(b)}\")\n",
    "\n",
    "b = {}\n",
    "print(f\"a = {id(a)}, and b = {id(b)}\")"
   ]
  },
  {
   "cell_type": "code",
   "execution_count": 8,
   "id": "e3d6c2d2",
   "metadata": {},
   "outputs": [
    {
     "data": {
      "text/plain": [
       "'The results of this code suggest that variables\\nin Python are labels rather than containers.  When\\nyou assign, e.g., `a = b`, the two items initially\\nhave the same id.  When you assign a new object to\\none of the variables, the variable points to another\\nid.  At that point, the link between the two is lost.\\n\\nBecause lists and dicts are mutable, and variables are\\nlabels, the behavior that we began with makes sense.  If\\ntwo variables point to the identical object, and you change\\nsomething about that object, I would expect all variables\\nthat point to that object to reflect the change.\\n'"
      ]
     },
     "execution_count": 8,
     "metadata": {},
     "output_type": "execute_result"
    }
   ],
   "source": [
    "\"\"\"\\\n",
    "The results of this code suggest that variables\n",
    "in Python are labels rather than containers.  When\n",
    "you assign, e.g., `a = b`, the two items initially\n",
    "have the same id.  When you assign a new object to\n",
    "one of the variables, the variable points to another\n",
    "id.  At that point, the link between the two is lost.\n",
    "\n",
    "Because lists and dicts are mutable, and variables are\n",
    "labels, the behavior that we began with makes sense.  If\n",
    "two variables point to the identical object, and you change\n",
    "something about that object, I would expect all variables\n",
    "that point to that object to reflect the change.\n",
    "\"\"\""
   ]
  },
  {
   "cell_type": "code",
   "execution_count": null,
   "id": "9b504234",
   "metadata": {},
   "outputs": [],
   "source": []
  }
 ],
 "metadata": {
  "kernelspec": {
   "display_name": "Python 3 (ipykernel)",
   "language": "python",
   "name": "python3"
  },
  "language_info": {
   "codemirror_mode": {
    "name": "ipython",
    "version": 3
   },
   "file_extension": ".py",
   "mimetype": "text/x-python",
   "name": "python",
   "nbconvert_exporter": "python",
   "pygments_lexer": "ipython3",
   "version": "3.10.5"
  }
 },
 "nbformat": 4,
 "nbformat_minor": 5
}
