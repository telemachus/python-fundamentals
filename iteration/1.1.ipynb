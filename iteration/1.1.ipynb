{
 "cells": [
  {
   "cell_type": "code",
   "execution_count": 1,
   "id": "55627144-a4f7-49df-b888-913eb4aca80b",
   "metadata": {},
   "outputs": [],
   "source": [
    "class Count:\n",
    "    def __init__(self, limit):\n",
    "        self.limit = limit\n",
    "        \n",
    "    def __getitem__(self, index):\n",
    "        # if index is less than self.limit, return index\n",
    "        # else raise an IndexError\n",
    "        if index < self.limit:\n",
    "            return index\n",
    "        else:\n",
    "            raise IndexError\n"
   ]
  },
  {
   "cell_type": "code",
   "execution_count": 2,
   "id": "8457cf45-a4dc-446c-aac7-63a8b3cdc33d",
   "metadata": {},
   "outputs": [],
   "source": [
    "count = Count(5)"
   ]
  },
  {
   "cell_type": "code",
   "execution_count": 3,
   "id": "d1c8c25c-f867-4af1-8dea-e606544b09ce",
   "metadata": {},
   "outputs": [
    {
     "data": {
      "text/plain": [
       "0"
      ]
     },
     "execution_count": 3,
     "metadata": {},
     "output_type": "execute_result"
    }
   ],
   "source": [
    "count[0]"
   ]
  },
  {
   "cell_type": "code",
   "execution_count": 4,
   "id": "edd24c63-89f2-4b77-b218-726ed9335337",
   "metadata": {},
   "outputs": [
    {
     "data": {
      "text/plain": [
       "2"
      ]
     },
     "execution_count": 4,
     "metadata": {},
     "output_type": "execute_result"
    }
   ],
   "source": [
    "count[2]"
   ]
  },
  {
   "cell_type": "code",
   "execution_count": 5,
   "id": "06555451-ba35-44bf-8500-11cd223cc4d7",
   "metadata": {},
   "outputs": [
    {
     "name": "stdout",
     "output_type": "stream",
     "text": [
      "item = 0\n",
      "item = 1\n",
      "item = 2\n",
      "item = 3\n",
      "item = 4\n"
     ]
    }
   ],
   "source": [
    "for item in count:\n",
    "    print(f\"item = {item}\")"
   ]
  },
  {
   "cell_type": "code",
   "execution_count": 6,
   "id": "d6474cce-7750-4f6f-a0da-49b448da9358",
   "metadata": {},
   "outputs": [
    {
     "name": "stdout",
     "output_type": "stream",
     "text": [
      "Caught IndexError as expected!\n"
     ]
    }
   ],
   "source": [
    "try:\n",
    "    print(count[5])\n",
    "except IndexError:\n",
    "    print(\"Caught IndexError as expected!\")"
   ]
  },
  {
   "cell_type": "code",
   "execution_count": 7,
   "id": "a33015db-bcdb-4f27-a3f0-12b647029e2c",
   "metadata": {},
   "outputs": [],
   "source": [
    "class Fibonacci(Count):\n",
    "    def __init__(self, limit):\n",
    "        # set the maximum number of Fibonacci numbers\n",
    "        super().__init__(limit)\n",
    "        self.last = 1\n",
    "        self.current = 1\n",
    "        \n",
    "    def __getitem__(self, index):\n",
    "        if index < self.limit:\n",
    "            fib = self.last\n",
    "            self.last, self.current = self.current, self.last+self.current\n",
    "            return fib\n",
    "        else:\n",
    "            raise IndexError"
   ]
  },
  {
   "cell_type": "code",
   "execution_count": 8,
   "id": "20e4f1c4-d2ba-4f17-9ba3-a46dd3afaff1",
   "metadata": {},
   "outputs": [],
   "source": [
    "f = Fibonacci(25)"
   ]
  },
  {
   "cell_type": "code",
   "execution_count": 9,
   "id": "4bc41fba-ff8a-47e5-849d-4f3cc8462d41",
   "metadata": {},
   "outputs": [
    {
     "name": "stdout",
     "output_type": "stream",
     "text": [
      "1\n",
      "1\n",
      "2\n",
      "3\n",
      "5\n",
      "8\n",
      "13\n",
      "21\n",
      "34\n",
      "55\n",
      "89\n",
      "144\n",
      "233\n",
      "377\n",
      "610\n",
      "987\n",
      "1597\n",
      "2584\n",
      "4181\n",
      "6765\n",
      "10946\n",
      "17711\n",
      "28657\n",
      "46368\n",
      "75025\n"
     ]
    }
   ],
   "source": [
    "for n in f:\n",
    "    print(n)"
   ]
  },
  {
   "cell_type": "code",
   "execution_count": null,
   "id": "16bfa331-5481-4dca-9ca0-942c0cc33d77",
   "metadata": {},
   "outputs": [],
   "source": []
  }
 ],
 "metadata": {
  "kernelspec": {
   "display_name": "Python 3 (ipykernel)",
   "language": "python",
   "name": "python3"
  },
  "language_info": {
   "codemirror_mode": {
    "name": "ipython",
    "version": 3
   },
   "file_extension": ".py",
   "mimetype": "text/x-python",
   "name": "python",
   "nbconvert_exporter": "python",
   "pygments_lexer": "ipython3",
   "version": "3.10.5"
  }
 },
 "nbformat": 4,
 "nbformat_minor": 5
}
