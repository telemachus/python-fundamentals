{
 "cells": [
  {
   "cell_type": "code",
   "execution_count": 1,
   "id": "55627144-a4f7-49df-b888-913eb4aca80b",
   "metadata": {},
   "outputs": [],
   "source": [
    "class CountIterator:\n",
    "    def __init__(self, limit):\n",
    "        self.limit = limit\n",
    "        self.count = 0\n",
    "        \n",
    "    def __next__(self):\n",
    "        if self.count < self.limit:\n",
    "            value = self.count\n",
    "            self.count += 1\n",
    "            return value\n",
    "        else:\n",
    "            raise StopIteration\n",
    "\n",
    "    def __iter__(self):\n",
    "        return self"
   ]
  },
  {
   "cell_type": "code",
   "execution_count": 2,
   "id": "8457cf45-a4dc-446c-aac7-63a8b3cdc33d",
   "metadata": {},
   "outputs": [
    {
     "name": "stdout",
     "output_type": "stream",
     "text": [
      "0\n"
     ]
    }
   ],
   "source": [
    "count_iterator = CountIterator(5)\n",
    "print(next(count_iterator))"
   ]
  },
  {
   "cell_type": "code",
   "execution_count": 3,
   "id": "d1c8c25c-f867-4af1-8dea-e606544b09ce",
   "metadata": {},
   "outputs": [
    {
     "name": "stdout",
     "output_type": "stream",
     "text": [
      "1\n",
      "2\n",
      "3\n",
      "4\n"
     ]
    }
   ],
   "source": [
    "for n in count_iterator:\n",
    "    print(n)"
   ]
  },
  {
   "cell_type": "code",
   "execution_count": 4,
   "id": "edd24c63-89f2-4b77-b218-726ed9335337",
   "metadata": {},
   "outputs": [],
   "source": [
    "# Iteration is over, so this is a no-op.\n",
    "for n in count_iterator:\n",
    "    print(n)"
   ]
  },
  {
   "cell_type": "code",
   "execution_count": 5,
   "id": "06555451-ba35-44bf-8500-11cd223cc4d7",
   "metadata": {},
   "outputs": [
    {
     "name": "stdout",
     "output_type": "stream",
     "text": [
      "Got StopIteration as expected!\n"
     ]
    }
   ],
   "source": [
    "try:\n",
    "    next(count_iterator)\n",
    "except StopIteration:\n",
    "    print(\"Got StopIteration as expected!\")"
   ]
  },
  {
   "cell_type": "code",
   "execution_count": 6,
   "id": "a33015db-bcdb-4f27-a3f0-12b647029e2c",
   "metadata": {},
   "outputs": [],
   "source": [
    "class FibonacciIterator():\n",
    "    def __init__(self, limit):\n",
    "        # set the maximum number of Fibonacci numbers\n",
    "        self.limit = limit\n",
    "        self.count = 0\n",
    "        self.last = 1\n",
    "        self.current = 1\n",
    "        \n",
    "        \n",
    "    def __next__(self):\n",
    "        if self.count < self.limit:\n",
    "            self.count += 1\n",
    "            fib = self.last\n",
    "            self.last, self.current = self.current, self.last+self.current\n",
    "            return fib\n",
    "        else:\n",
    "            raise StopIteration\n",
    "            \n",
    "            \n",
    "    def __iter__(self):\n",
    "        return self"
   ]
  },
  {
   "cell_type": "code",
   "execution_count": 7,
   "id": "884d7d20-25e5-4ad1-a438-710090ece880",
   "metadata": {},
   "outputs": [],
   "source": [
    "f = FibonacciIterator(25)"
   ]
  },
  {
   "cell_type": "code",
   "execution_count": 8,
   "id": "5d9593ec-de41-4a6c-a69a-319fd71cf759",
   "metadata": {},
   "outputs": [
    {
     "name": "stdout",
     "output_type": "stream",
     "text": [
      "1\n",
      "1\n",
      "2\n",
      "3\n",
      "5\n",
      "8\n",
      "13\n",
      "21\n",
      "34\n",
      "55\n",
      "89\n",
      "144\n",
      "233\n",
      "377\n",
      "610\n",
      "987\n",
      "1597\n",
      "2584\n",
      "4181\n",
      "6765\n",
      "10946\n",
      "17711\n",
      "28657\n",
      "46368\n",
      "75025\n"
     ]
    }
   ],
   "source": [
    "for n in f:\n",
    "    print(n)"
   ]
  },
  {
   "cell_type": "code",
   "execution_count": 9,
   "id": "3cae14a2-920f-403d-84ed-823a08ff820c",
   "metadata": {},
   "outputs": [],
   "source": [
    "# This should be a no-op since iteration is finished.\n",
    "for n in f:\n",
    "    print(n)"
   ]
  },
  {
   "cell_type": "code",
   "execution_count": 10,
   "id": "8aad6a07-db7f-47bb-8fbc-e9c474925c4f",
   "metadata": {},
   "outputs": [
    {
     "name": "stdout",
     "output_type": "stream",
     "text": [
      "Got StopIteration as expected!\n"
     ]
    }
   ],
   "source": [
    "try:\n",
    "    next(f)\n",
    "except StopIteration:\n",
    "    print(\"Got StopIteration as expected!\")"
   ]
  },
  {
   "cell_type": "code",
   "execution_count": 11,
   "id": "41b5f044-c882-4266-9a3c-a5c1089e54fb",
   "metadata": {},
   "outputs": [
    {
     "name": "stdout",
     "output_type": "stream",
     "text": [
      "0\n",
      "1\n",
      "2\n",
      "3\n",
      "4\n"
     ]
    }
   ],
   "source": [
    "def count_generator(limit):\n",
    "    count = 0\n",
    "    while count < limit:\n",
    "        yield count\n",
    "        count += 1\n",
    "        \n",
    "for x in count_generator(5):\n",
    "    print(x)"
   ]
  },
  {
   "cell_type": "code",
   "execution_count": 12,
   "id": "444d2b9c-df9e-4afd-9b40-75ef09a20915",
   "metadata": {},
   "outputs": [
    {
     "data": {
      "text/plain": [
       "function"
      ]
     },
     "execution_count": 12,
     "metadata": {},
     "output_type": "execute_result"
    }
   ],
   "source": [
    "type(count_generator)"
   ]
  },
  {
   "cell_type": "code",
   "execution_count": 13,
   "id": "b2b6cf7b-80d7-43f5-9e02-32dc50e38d00",
   "metadata": {},
   "outputs": [
    {
     "data": {
      "text/plain": [
       "generator"
      ]
     },
     "execution_count": 13,
     "metadata": {},
     "output_type": "execute_result"
    }
   ],
   "source": [
    "cg = count_generator(10)\n",
    "type(cg)"
   ]
  },
  {
   "cell_type": "code",
   "execution_count": 14,
   "id": "84438518-6f38-466b-8f55-da311e255293",
   "metadata": {},
   "outputs": [
    {
     "name": "stdout",
     "output_type": "stream",
     "text": [
      "0\n",
      "1\n",
      "2\n",
      "3\n",
      "4\n",
      "5\n",
      "6\n",
      "7\n",
      "8\n",
      "9\n"
     ]
    }
   ],
   "source": [
    "for n in cg:\n",
    "    print(n)"
   ]
  },
  {
   "cell_type": "code",
   "execution_count": 15,
   "id": "06cd4ad9-51fa-47b3-8681-6e51b3ff4f90",
   "metadata": {},
   "outputs": [
    {
     "name": "stdout",
     "output_type": "stream",
     "text": [
      "1\n",
      "1\n",
      "2\n",
      "3\n",
      "5\n",
      "8\n",
      "13\n",
      "21\n",
      "34\n",
      "55\n",
      "89\n",
      "144\n",
      "233\n",
      "377\n",
      "610\n",
      "987\n",
      "1597\n",
      "2584\n",
      "4181\n",
      "6765\n",
      "10946\n",
      "17711\n",
      "28657\n",
      "46368\n",
      "75025\n"
     ]
    }
   ],
   "source": [
    "def fibonacci_generator(stop):\n",
    "    prev = 1\n",
    "    curr = 1\n",
    "    while stop > 0:\n",
    "        stop -= 1\n",
    "        fib = prev\n",
    "        prev, curr = curr, prev+curr\n",
    "        yield fib\n",
    "        \n",
    "        \n",
    "for x in fibonacci_generator(25):\n",
    "    print(x)"
   ]
  },
  {
   "cell_type": "code",
   "execution_count": 16,
   "id": "c06dd153-ad8f-4aa8-9b20-83eba1db438f",
   "metadata": {},
   "outputs": [
    {
     "name": "stdout",
     "output_type": "stream",
     "text": [
      "Calling fib_gen twice via next()...\n",
      "1\n",
      "1\n",
      "Calling fib_gen in a for loop...\n",
      "2\n",
      "3\n",
      "5\n",
      "8\n",
      "13\n",
      "21\n",
      "34\n",
      "55\n"
     ]
    }
   ],
   "source": [
    "fib_gen = fibonacci_generator(10)\n",
    "print(\"Calling fib_gen twice via next()...\")\n",
    "print(next(fib_gen))\n",
    "print(next(fib_gen))\n",
    "print(\"Calling fib_gen in a for loop...\")\n",
    "for n in fib_gen:\n",
    "    print(n)\n",
    "\n",
    "# This should be a no-op since the generator\n",
    "# is exhausted.\n",
    "for n in fib_gen:\n",
    "    print(n)"
   ]
  },
  {
   "cell_type": "code",
   "execution_count": 17,
   "id": "29789124-9375-43e1-b3cb-ef63cfde5351",
   "metadata": {},
   "outputs": [
    {
     "name": "stdout",
     "output_type": "stream",
     "text": [
      "Got StopIteration as expected!\n"
     ]
    }
   ],
   "source": [
    "try:\n",
    "    next(fib_gen)\n",
    "except StopIteration:\n",
    "    print(\"Got StopIteration as expected!\")"
   ]
  }
 ],
 "metadata": {
  "kernelspec": {
   "display_name": "Python 3 (ipykernel)",
   "language": "python",
   "name": "python3"
  },
  "language_info": {
   "codemirror_mode": {
    "name": "ipython",
    "version": 3
   },
   "file_extension": ".py",
   "mimetype": "text/x-python",
   "name": "python",
   "nbconvert_exporter": "python",
   "pygments_lexer": "ipython3",
   "version": "3.10.5"
  }
 },
 "nbformat": 4,
 "nbformat_minor": 5
}
