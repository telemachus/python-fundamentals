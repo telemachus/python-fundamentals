{
 "cells": [
  {
   "cell_type": "code",
   "execution_count": 1,
   "id": "07e70fdf",
   "metadata": {},
   "outputs": [
    {
     "name": "stdout",
     "output_type": "stream",
     "text": [
      "Price has type <class 'type'>\n",
      "MyPrice has type <class 'type'>\n"
     ]
    }
   ],
   "source": [
    "class Price:\n",
    "    def __init__(self, part_number, price):\n",
    "        self.price = price\n",
    "        self.part_number = part_number\n",
    "\n",
    "    def get_price(self):\n",
    "        return  self.price\n",
    "\n",
    "\n",
    "def function__init__(self, part_number, price):\n",
    "    self.price = price\n",
    "    self.part_number = part_number\n",
    "\n",
    "def function_get_price(self):\n",
    "    return  self.price\n",
    "\n",
    "namespace = {\"__init__\": function__init__,}\n",
    "\n",
    "MyPrice = type('MyPrice', (), namespace)\n",
    "\n",
    "assert(type(MyPrice) == type(Price))\n",
    "print(f\"Price has type {type(Price)}\")\n",
    "print(f\"MyPrice has type {type(MyPrice)}\")"
   ]
  }
 ],
 "metadata": {
  "kernelspec": {
   "display_name": "Python 3 (ipykernel)",
   "language": "python",
   "name": "python3"
  },
  "language_info": {
   "codemirror_mode": {
    "name": "ipython",
    "version": 3
   },
   "file_extension": ".py",
   "mimetype": "text/x-python",
   "name": "python",
   "nbconvert_exporter": "python",
   "pygments_lexer": "ipython3",
   "version": "3.10.5"
  }
 },
 "nbformat": 4,
 "nbformat_minor": 5
}
